{
 "cells": [
  {
   "cell_type": "code",
   "execution_count": 7,
   "metadata": {},
   "outputs": [
    {
     "name": "stdout",
     "output_type": "stream",
     "text": [
      "Solving environment: ...working... done\n",
      "\n",
      "## Package Plan ##\n",
      "\n",
      "  environment location: /anaconda3/envs/jupyterlab\n",
      "\n",
      "  added / updated specs: \n",
      "    - scikit-learn\n",
      "\n",
      "\n",
      "The following packages will be downloaded:\n",
      "\n",
      "    package                    |            build\n",
      "    ---------------------------|-----------------\n",
      "    ca-certificates-2018.03.07 |                0         124 KB  anaconda\n",
      "    scikit-learn-0.20.1        |   py37h4f467ca_0         5.2 MB  anaconda\n",
      "    mkl-2019.1                 |              144       154.4 MB  anaconda\n",
      "    openssl-1.1.1              |       h1de35cc_0         4.6 MB  anaconda\n",
      "    mkl_fft-1.0.6              |   py37hb8a8100_0         137 KB  anaconda\n",
      "    numpy-1.15.4               |   py37h6a91979_0          35 KB  anaconda\n",
      "    python-3.7.1               |       haf84260_3        21.1 MB  anaconda\n",
      "    certifi-2018.10.15         |           py37_0         138 KB  anaconda\n",
      "    libgfortran-3.0.1          |       h93005f0_2         495 KB  anaconda\n",
      "    mkl_random-1.0.1           |   py37h5d10147_1         335 KB  anaconda\n",
      "    numpy-base-1.15.4          |   py37h8a80b8c_0         4.1 MB  anaconda\n",
      "    libcxxabi-4.0.1            |       hcfea43d_1         458 KB  anaconda\n",
      "    scipy-1.1.0                |   py37h28f7352_1        15.3 MB  anaconda\n",
      "    blas-1.0                   |              mkl           5 KB  anaconda\n",
      "    libcxx-4.0.1               |       hcfea43d_1         1.2 MB  anaconda\n",
      "    intel-openmp-2019.1        |              144         1.1 MB  anaconda\n",
      "    ------------------------------------------------------------\n",
      "                                           Total:       208.7 MB\n",
      "\n",
      "The following NEW packages will be INSTALLED:\n",
      "\n",
      "    blas:            1.0-mkl               anaconda   \n",
      "    intel-openmp:    2019.1-144            anaconda   \n",
      "    libcxx:          4.0.1-hcfea43d_1      anaconda   \n",
      "    libcxxabi:       4.0.1-hcfea43d_1      anaconda   \n",
      "    libgfortran:     3.0.1-h93005f0_2      anaconda   \n",
      "    mkl:             2019.1-144            anaconda   \n",
      "    mkl_fft:         1.0.6-py37hb8a8100_0  anaconda   \n",
      "    mkl_random:      1.0.1-py37h5d10147_1  anaconda   \n",
      "    numpy:           1.15.4-py37h6a91979_0 anaconda   \n",
      "    numpy-base:      1.15.4-py37h8a80b8c_0 anaconda   \n",
      "    scikit-learn:    0.20.1-py37h4f467ca_0 anaconda   \n",
      "    scipy:           1.1.0-py37h28f7352_1  anaconda   \n",
      "\n",
      "The following packages will be UPDATED:\n",
      "\n",
      "    openssl:         1.0.2p-h470a237_1     conda-forge --> 1.1.1-h1de35cc_0  anaconda\n",
      "    python:          3.7.1-h46c1a51_0      conda-forge --> 3.7.1-haf84260_3  anaconda\n",
      "\n",
      "The following packages will be DOWNGRADED:\n",
      "\n",
      "    ca-certificates: 2018.11.29-ha4d7672_0 conda-forge --> 2018.03.07-0      anaconda\n",
      "    certifi:         2018.11.29-py37_1000  conda-forge --> 2018.10.15-py37_0 anaconda\n",
      "\n",
      "Proceed ([y]/n)? \n",
      "\n",
      "Downloading and Extracting Packages\n",
      "Preparing transaction: ...working... done\n",
      "Verifying transaction: ...working... done\n",
      "Executing transaction: ...working... done\n"
     ]
    },
    {
     "name": "stderr",
     "output_type": "stream",
     "text": [
      "\n",
      "\n",
      "==> WARNING: A newer version of conda exists. <==\n",
      "  current version: 4.5.11\n",
      "  latest version: 4.5.12\n",
      "\n",
      "Please update conda by running\n",
      "\n",
      "    $ conda update -n base -c defaults conda\n",
      "\n",
      "\n",
      "ca-certificates-2018 | 124 KB    | ########## | 100% \n",
      "scikit-learn-0.20.1  | 5.2 MB    | ########## | 100% \n",
      "mkl-2019.1           | 154.4 MB  | ########## | 100% \n",
      "openssl-1.1.1        | 4.6 MB    | ########## | 100% \n",
      "mkl_fft-1.0.6        | 137 KB    | ########## | 100% \n",
      "numpy-1.15.4         | 35 KB     | ########## | 100% \n",
      "python-3.7.1         | 21.1 MB   | ########## | 100% \n",
      "certifi-2018.10.15   | 138 KB    | ########## | 100% \n",
      "libgfortran-3.0.1    | 495 KB    | ########## | 100% \n",
      "mkl_random-1.0.1     | 335 KB    | ########## | 100% \n",
      "numpy-base-1.15.4    | 4.1 MB    | ########## | 100% \n",
      "libcxxabi-4.0.1      | 458 KB    | ########## | 100% \n",
      "scipy-1.1.0          | 15.3 MB   | ########## | 100% \n",
      "blas-1.0             | 5 KB      | ########## | 100% \n",
      "libcxx-4.0.1         | 1.2 MB    | ########## | 100% \n",
      "intel-openmp-2019.1  | 1.1 MB    | ########## | 100% \n"
     ]
    }
   ],
   "source": [
    "%%sh\n",
    "conda install -c anaconda scikit-learn "
   ]
  },
  {
   "cell_type": "code",
   "execution_count": 8,
   "metadata": {},
   "outputs": [
    {
     "data": {
      "text/plain": [
       "SVC(C=1.0, cache_size=200, class_weight=None, coef0=0.0,\n",
       "  decision_function_shape='ovr', degree=3, gamma='scale', kernel='rbf',\n",
       "  max_iter=-1, probability=False, random_state=None, shrinking=True,\n",
       "  tol=0.001, verbose=False)"
      ]
     },
     "execution_count": 8,
     "metadata": {},
     "output_type": "execute_result"
    }
   ],
   "source": [
    "from sklearn import svm\n",
    "X = [[0, 0], [1, 1]]\n",
    "y = [0, 1]\n",
    "clf = svm.SVC(gamma='scale')\n",
    "clf.fit(X, y)  "
   ]
  },
  {
   "cell_type": "code",
   "execution_count": 14,
   "metadata": {},
   "outputs": [
    {
     "data": {
      "text/plain": [
       "array([1])"
      ]
     },
     "execution_count": 14,
     "metadata": {},
     "output_type": "execute_result"
    }
   ],
   "source": [
    "clf.predict([[2., 2.]])"
   ]
  },
  {
   "cell_type": "code",
   "execution_count": 15,
   "metadata": {},
   "outputs": [
    {
     "name": "stdout",
     "output_type": "stream",
     "text": [
      "[1]\n"
     ]
    }
   ],
   "source": [
    "print(r)"
   ]
  },
  {
   "cell_type": "code",
   "execution_count": 16,
   "metadata": {},
   "outputs": [],
   "source": [
    "r = clf.predict([[0., 1.]])"
   ]
  },
  {
   "cell_type": "code",
   "execution_count": 17,
   "metadata": {},
   "outputs": [
    {
     "name": "stdout",
     "output_type": "stream",
     "text": [
      "[1]\n"
     ]
    }
   ],
   "source": [
    "print(r)"
   ]
  },
  {
   "cell_type": "code",
   "execution_count": 22,
   "metadata": {},
   "outputs": [
    {
     "data": {
      "text/plain": [
       "array([0])"
      ]
     },
     "execution_count": 22,
     "metadata": {},
     "output_type": "execute_result"
    }
   ],
   "source": [
    "clf.predict([[0.5, 0.4]])"
   ]
  },
  {
   "cell_type": "code",
   "execution_count": 19,
   "metadata": {},
   "outputs": [
    {
     "name": "stdout",
     "output_type": "stream",
     "text": [
      "[0]\n"
     ]
    }
   ],
   "source": [
    "print (r)"
   ]
  },
  {
   "cell_type": "code",
   "execution_count": 6,
   "metadata": {},
   "outputs": [
    {
     "data": {
      "text/plain": [
       "array([0. , 0.1, 0.2, 0.3, 0.4, 0.5, 0.6, 0.7, 0.8, 0.9, 1. ])"
      ]
     },
     "execution_count": 6,
     "metadata": {},
     "output_type": "execute_result"
    }
   ],
   "source": [
    "import numpy\n",
    "numpy.linspace(0.0, 1.0, 11)"
   ]
  },
  {
   "cell_type": "code",
   "execution_count": null,
   "metadata": {},
   "outputs": [],
   "source": []
  }
 ],
 "metadata": {
  "kernelspec": {
   "display_name": "Python 3",
   "language": "python",
   "name": "python3"
  },
  "language_info": {
   "codemirror_mode": {
    "name": "ipython",
    "version": 3
   },
   "file_extension": ".py",
   "mimetype": "text/x-python",
   "name": "python",
   "nbconvert_exporter": "python",
   "pygments_lexer": "ipython3",
   "version": "3.7.1"
  }
 },
 "nbformat": 4,
 "nbformat_minor": 2
}
