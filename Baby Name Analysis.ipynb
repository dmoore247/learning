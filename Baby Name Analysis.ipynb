{
 "cells": [
  {
   "cell_type": "markdown",
   "metadata": {},
   "source": [
    "# Baby Name Analysis\n",
    "Demonstrate the analysis of US baby name data collected every year for the nation and by state.\n",
    "\n",
    "## Introduction\n",
    "\n",
    "A Jupyter notebook to explore baby names (names, by year, by gender, by state) as a basis to learn more about data preparation, data visualization, and data analysis using Python, Pandas, matplotlib and iPython (Jupyter) notebooks\n",
    "\n",
    "##### Author:\n",
    "Douglas Moore\n",
    "@douglas_ma"
   ]
  },
  {
   "cell_type": "markdown",
   "metadata": {},
   "source": [
    "## Install\n",
    "This workbook is based on https://github.com/dmoore247/jupyterlab plus these packages:"
   ]
  },
  {
   "cell_type": "code",
   "execution_count": 1,
   "metadata": {},
   "outputs": [
    {
     "name": "stdout",
     "output_type": "stream",
     "text": [
      "Solving environment: ...working... done\n",
      "\n",
      "# All requested packages already installed.\n",
      "\n"
     ]
    }
   ],
   "source": [
    "%%sh\n",
    "conda install --yes -c conda-forge matplotlib pandas scipy"
   ]
  },
  {
   "cell_type": "code",
   "execution_count": 2,
   "metadata": {
    "collapsed": true
   },
   "outputs": [],
   "source": [
    "# Tell Jupyter to inline plots\n",
    "%matplotlib inline"
   ]
  },
  {
   "cell_type": "code",
   "execution_count": 3,
   "metadata": {
    "collapsed": false
   },
   "outputs": [
    {
     "name": "stdout",
     "output_type": "stream",
     "text": [
      "env: database=database\n",
      "/data/babynames/database.sqlite\n"
     ]
    }
   ],
   "source": [
    "# Verify data file\n",
    "# SQLLite database downloaded from: https://www.kaggle.com/kaggle/us-baby-names\n",
    "database='/data/babynames/database.sqlite'\n",
    "%env database database\n",
    "%ls  $database"
   ]
  },
  {
   "cell_type": "code",
   "execution_count": 4,
   "metadata": {
    "collapsed": true
   },
   "outputs": [],
   "source": [
    "# imports\n",
    "%matplotlib inline\n",
    "import warnings\n",
    "warnings.filterwarnings(\"ignore\", message=\"axes.color_cycle is deprecated\")\n",
    "import numpy as np\n",
    "import pandas as pd\n",
    "import scipy as sp\n",
    "# import seaborn as sns\n",
    "import sqlite3\n",
    "import matplotlib.pyplot as plt"
   ]
  },
  {
   "cell_type": "code",
   "execution_count": 5,
   "metadata": {
    "collapsed": false
   },
   "outputs": [],
   "source": [
    "# explore sqlite contents using sqlite3. A minimally sql compliant data store.\n",
    "con = sqlite3.connect( database )\n",
    "cursor = con.cursor()"
   ]
  },
  {
   "cell_type": "code",
   "execution_count": 6,
   "metadata": {
    "collapsed": false
   },
   "outputs": [
    {
     "name": "stdout",
     "output_type": "stream",
     "text": [
      "[('NationalNames',), ('StateNames',)]\n"
     ]
    }
   ],
   "source": [
    "# list table names\n",
    "cursor.execute(\"SELECT name FROM sqlite_master WHERE type='table';\")\n",
    "print(cursor.fetchall())"
   ]
  },
  {
   "cell_type": "code",
   "execution_count": 7,
   "metadata": {
    "collapsed": false
   },
   "outputs": [],
   "source": [
    "# helper method to load the data\n",
    "def load(what='NationalNames'):\n",
    "    df = pd.read_sql_query(\"SELECT Name, Year, Gender, Count FROM NationalNames WHERE Year >= 1950\",con)\n",
    "    return df"
   ]
  },
  {
   "cell_type": "code",
   "execution_count": 8,
   "metadata": {
    "collapsed": false
   },
   "outputs": [
    {
     "data": {
      "text/html": [
       "<div>\n",
       "<style scoped>\n",
       "    .dataframe tbody tr th:only-of-type {\n",
       "        vertical-align: middle;\n",
       "    }\n",
       "\n",
       "    .dataframe tbody tr th {\n",
       "        vertical-align: top;\n",
       "    }\n",
       "\n",
       "    .dataframe thead th {\n",
       "        text-align: right;\n",
       "    }\n",
       "</style>\n",
       "<table border=\"1\" class=\"dataframe\">\n",
       "  <thead>\n",
       "    <tr style=\"text-align: right;\">\n",
       "      <th></th>\n",
       "      <th>Name</th>\n",
       "      <th>Year</th>\n",
       "      <th>Gender</th>\n",
       "      <th>Count</th>\n",
       "    </tr>\n",
       "  </thead>\n",
       "  <tbody>\n",
       "    <tr>\n",
       "      <th>1363507</th>\n",
       "      <td>Zykeem</td>\n",
       "      <td>2014</td>\n",
       "      <td>M</td>\n",
       "      <td>5</td>\n",
       "    </tr>\n",
       "    <tr>\n",
       "      <th>1363508</th>\n",
       "      <td>Zymeer</td>\n",
       "      <td>2014</td>\n",
       "      <td>M</td>\n",
       "      <td>5</td>\n",
       "    </tr>\n",
       "    <tr>\n",
       "      <th>1363509</th>\n",
       "      <td>Zymiere</td>\n",
       "      <td>2014</td>\n",
       "      <td>M</td>\n",
       "      <td>5</td>\n",
       "    </tr>\n",
       "    <tr>\n",
       "      <th>1363510</th>\n",
       "      <td>Zyran</td>\n",
       "      <td>2014</td>\n",
       "      <td>M</td>\n",
       "      <td>5</td>\n",
       "    </tr>\n",
       "    <tr>\n",
       "      <th>1363511</th>\n",
       "      <td>Zyrin</td>\n",
       "      <td>2014</td>\n",
       "      <td>M</td>\n",
       "      <td>5</td>\n",
       "    </tr>\n",
       "  </tbody>\n",
       "</table>\n",
       "</div>"
      ],
      "text/plain": [
       "            Name  Year Gender  Count\n",
       "1363507   Zykeem  2014      M      5\n",
       "1363508   Zymeer  2014      M      5\n",
       "1363509  Zymiere  2014      M      5\n",
       "1363510    Zyran  2014      M      5\n",
       "1363511    Zyrin  2014      M      5"
      ]
     },
     "execution_count": 8,
     "metadata": {},
     "output_type": "execute_result"
    }
   ],
   "source": [
    "# Actually load the data from the datafile\n",
    "df = load(what='NationalNames')\n",
    "df.tail(5) #sample last 5 names"
   ]
  },
  {
   "cell_type": "code",
   "execution_count": 9,
   "metadata": {
    "collapsed": false
   },
   "outputs": [
    {
     "data": {
      "text/html": [
       "<div>\n",
       "<style scoped>\n",
       "    .dataframe tbody tr th:only-of-type {\n",
       "        vertical-align: middle;\n",
       "    }\n",
       "\n",
       "    .dataframe tbody tr th {\n",
       "        vertical-align: top;\n",
       "    }\n",
       "\n",
       "    .dataframe thead th {\n",
       "        text-align: right;\n",
       "    }\n",
       "</style>\n",
       "<table border=\"1\" class=\"dataframe\">\n",
       "  <thead>\n",
       "    <tr style=\"text-align: right;\">\n",
       "      <th></th>\n",
       "      <th>Name</th>\n",
       "      <th>Count</th>\n",
       "      <th>Year</th>\n",
       "      <th>Gender</th>\n",
       "    </tr>\n",
       "  </thead>\n",
       "  <tbody>\n",
       "    <tr>\n",
       "      <th>0</th>\n",
       "      <td>Linda</td>\n",
       "      <td>80431</td>\n",
       "      <td>1950</td>\n",
       "      <td>F</td>\n",
       "    </tr>\n",
       "    <tr>\n",
       "      <th>1</th>\n",
       "      <td>Mary</td>\n",
       "      <td>65460</td>\n",
       "      <td>1950</td>\n",
       "      <td>F</td>\n",
       "    </tr>\n",
       "    <tr>\n",
       "      <th>2</th>\n",
       "      <td>Patricia</td>\n",
       "      <td>47945</td>\n",
       "      <td>1950</td>\n",
       "      <td>F</td>\n",
       "    </tr>\n",
       "    <tr>\n",
       "      <th>3</th>\n",
       "      <td>Barbara</td>\n",
       "      <td>41558</td>\n",
       "      <td>1950</td>\n",
       "      <td>F</td>\n",
       "    </tr>\n",
       "    <tr>\n",
       "      <th>4</th>\n",
       "      <td>Susan</td>\n",
       "      <td>38022</td>\n",
       "      <td>1950</td>\n",
       "      <td>F</td>\n",
       "    </tr>\n",
       "    <tr>\n",
       "      <th>5</th>\n",
       "      <td>Nancy</td>\n",
       "      <td>29621</td>\n",
       "      <td>1950</td>\n",
       "      <td>F</td>\n",
       "    </tr>\n",
       "    <tr>\n",
       "      <th>6</th>\n",
       "      <td>Deborah</td>\n",
       "      <td>29071</td>\n",
       "      <td>1950</td>\n",
       "      <td>F</td>\n",
       "    </tr>\n",
       "    <tr>\n",
       "      <th>7</th>\n",
       "      <td>Sandra</td>\n",
       "      <td>28893</td>\n",
       "      <td>1950</td>\n",
       "      <td>F</td>\n",
       "    </tr>\n",
       "    <tr>\n",
       "      <th>8</th>\n",
       "      <td>Carol</td>\n",
       "      <td>26159</td>\n",
       "      <td>1950</td>\n",
       "      <td>F</td>\n",
       "    </tr>\n",
       "    <tr>\n",
       "      <th>9</th>\n",
       "      <td>Kathleen</td>\n",
       "      <td>25699</td>\n",
       "      <td>1950</td>\n",
       "      <td>F</td>\n",
       "    </tr>\n",
       "    <tr>\n",
       "      <th>10</th>\n",
       "      <td>Sharon</td>\n",
       "      <td>24611</td>\n",
       "      <td>1950</td>\n",
       "      <td>F</td>\n",
       "    </tr>\n",
       "    <tr>\n",
       "      <th>11</th>\n",
       "      <td>Karen</td>\n",
       "      <td>24139</td>\n",
       "      <td>1950</td>\n",
       "      <td>F</td>\n",
       "    </tr>\n",
       "    <tr>\n",
       "      <th>12</th>\n",
       "      <td>Donna</td>\n",
       "      <td>21630</td>\n",
       "      <td>1950</td>\n",
       "      <td>F</td>\n",
       "    </tr>\n",
       "    <tr>\n",
       "      <th>13</th>\n",
       "      <td>Brenda</td>\n",
       "      <td>20793</td>\n",
       "      <td>1950</td>\n",
       "      <td>F</td>\n",
       "    </tr>\n",
       "    <tr>\n",
       "      <th>14</th>\n",
       "      <td>Margaret</td>\n",
       "      <td>18102</td>\n",
       "      <td>1950</td>\n",
       "      <td>F</td>\n",
       "    </tr>\n",
       "    <tr>\n",
       "      <th>15</th>\n",
       "      <td>Diane</td>\n",
       "      <td>17632</td>\n",
       "      <td>1950</td>\n",
       "      <td>F</td>\n",
       "    </tr>\n",
       "    <tr>\n",
       "      <th>16</th>\n",
       "      <td>Pamela</td>\n",
       "      <td>16200</td>\n",
       "      <td>1950</td>\n",
       "      <td>F</td>\n",
       "    </tr>\n",
       "    <tr>\n",
       "      <th>17</th>\n",
       "      <td>Janet</td>\n",
       "      <td>16192</td>\n",
       "      <td>1950</td>\n",
       "      <td>F</td>\n",
       "    </tr>\n",
       "    <tr>\n",
       "      <th>18</th>\n",
       "      <td>Shirley</td>\n",
       "      <td>15893</td>\n",
       "      <td>1950</td>\n",
       "      <td>F</td>\n",
       "    </tr>\n",
       "    <tr>\n",
       "      <th>19</th>\n",
       "      <td>Carolyn</td>\n",
       "      <td>15597</td>\n",
       "      <td>1950</td>\n",
       "      <td>F</td>\n",
       "    </tr>\n",
       "    <tr>\n",
       "      <th>20</th>\n",
       "      <td>Judith</td>\n",
       "      <td>15359</td>\n",
       "      <td>1950</td>\n",
       "      <td>F</td>\n",
       "    </tr>\n",
       "    <tr>\n",
       "      <th>21</th>\n",
       "      <td>Janice</td>\n",
       "      <td>15018</td>\n",
       "      <td>1950</td>\n",
       "      <td>F</td>\n",
       "    </tr>\n",
       "    <tr>\n",
       "      <th>22</th>\n",
       "      <td>Cynthia</td>\n",
       "      <td>14449</td>\n",
       "      <td>1950</td>\n",
       "      <td>F</td>\n",
       "    </tr>\n",
       "    <tr>\n",
       "      <th>23</th>\n",
       "      <td>Elizabeth</td>\n",
       "      <td>14343</td>\n",
       "      <td>1950</td>\n",
       "      <td>F</td>\n",
       "    </tr>\n",
       "    <tr>\n",
       "      <th>24</th>\n",
       "      <td>Judy</td>\n",
       "      <td>14206</td>\n",
       "      <td>1950</td>\n",
       "      <td>F</td>\n",
       "    </tr>\n",
       "    <tr>\n",
       "      <th>25</th>\n",
       "      <td>Betty</td>\n",
       "      <td>13615</td>\n",
       "      <td>1950</td>\n",
       "      <td>F</td>\n",
       "    </tr>\n",
       "    <tr>\n",
       "      <th>26</th>\n",
       "      <td>Joyce</td>\n",
       "      <td>13417</td>\n",
       "      <td>1950</td>\n",
       "      <td>F</td>\n",
       "    </tr>\n",
       "    <tr>\n",
       "      <th>27</th>\n",
       "      <td>Christine</td>\n",
       "      <td>12676</td>\n",
       "      <td>1950</td>\n",
       "      <td>F</td>\n",
       "    </tr>\n",
       "    <tr>\n",
       "      <th>28</th>\n",
       "      <td>Cheryl</td>\n",
       "      <td>11823</td>\n",
       "      <td>1950</td>\n",
       "      <td>F</td>\n",
       "    </tr>\n",
       "    <tr>\n",
       "      <th>29</th>\n",
       "      <td>Gloria</td>\n",
       "      <td>11033</td>\n",
       "      <td>1950</td>\n",
       "      <td>F</td>\n",
       "    </tr>\n",
       "    <tr>\n",
       "      <th>...</th>\n",
       "      <td>...</td>\n",
       "      <td>...</td>\n",
       "      <td>...</td>\n",
       "      <td>...</td>\n",
       "    </tr>\n",
       "    <tr>\n",
       "      <th>1363470</th>\n",
       "      <td>Zarak</td>\n",
       "      <td>5</td>\n",
       "      <td>2014</td>\n",
       "      <td>M</td>\n",
       "    </tr>\n",
       "    <tr>\n",
       "      <th>1363471</th>\n",
       "      <td>Zaryn</td>\n",
       "      <td>5</td>\n",
       "      <td>2014</td>\n",
       "      <td>M</td>\n",
       "    </tr>\n",
       "    <tr>\n",
       "      <th>1363473</th>\n",
       "      <td>Zaydren</td>\n",
       "      <td>5</td>\n",
       "      <td>2014</td>\n",
       "      <td>M</td>\n",
       "    </tr>\n",
       "    <tr>\n",
       "      <th>1363474</th>\n",
       "      <td>Zayid</td>\n",
       "      <td>5</td>\n",
       "      <td>2014</td>\n",
       "      <td>M</td>\n",
       "    </tr>\n",
       "    <tr>\n",
       "      <th>1363476</th>\n",
       "      <td>Zaymere</td>\n",
       "      <td>5</td>\n",
       "      <td>2014</td>\n",
       "      <td>M</td>\n",
       "    </tr>\n",
       "    <tr>\n",
       "      <th>1363478</th>\n",
       "      <td>Zaysean</td>\n",
       "      <td>5</td>\n",
       "      <td>2014</td>\n",
       "      <td>M</td>\n",
       "    </tr>\n",
       "    <tr>\n",
       "      <th>1363480</th>\n",
       "      <td>Zedan</td>\n",
       "      <td>5</td>\n",
       "      <td>2014</td>\n",
       "      <td>M</td>\n",
       "    </tr>\n",
       "    <tr>\n",
       "      <th>1363481</th>\n",
       "      <td>Zedek</td>\n",
       "      <td>5</td>\n",
       "      <td>2014</td>\n",
       "      <td>M</td>\n",
       "    </tr>\n",
       "    <tr>\n",
       "      <th>1363484</th>\n",
       "      <td>Zeidan</td>\n",
       "      <td>5</td>\n",
       "      <td>2014</td>\n",
       "      <td>M</td>\n",
       "    </tr>\n",
       "    <tr>\n",
       "      <th>1363485</th>\n",
       "      <td>Zekeriah</td>\n",
       "      <td>5</td>\n",
       "      <td>2014</td>\n",
       "      <td>M</td>\n",
       "    </tr>\n",
       "    <tr>\n",
       "      <th>1363487</th>\n",
       "      <td>Zephen</td>\n",
       "      <td>5</td>\n",
       "      <td>2014</td>\n",
       "      <td>M</td>\n",
       "    </tr>\n",
       "    <tr>\n",
       "      <th>1363489</th>\n",
       "      <td>Zhaiden</td>\n",
       "      <td>5</td>\n",
       "      <td>2014</td>\n",
       "      <td>M</td>\n",
       "    </tr>\n",
       "    <tr>\n",
       "      <th>1363490</th>\n",
       "      <td>Zhalen</td>\n",
       "      <td>5</td>\n",
       "      <td>2014</td>\n",
       "      <td>M</td>\n",
       "    </tr>\n",
       "    <tr>\n",
       "      <th>1363491</th>\n",
       "      <td>Zhayden</td>\n",
       "      <td>5</td>\n",
       "      <td>2014</td>\n",
       "      <td>M</td>\n",
       "    </tr>\n",
       "    <tr>\n",
       "      <th>1363492</th>\n",
       "      <td>Ziar</td>\n",
       "      <td>5</td>\n",
       "      <td>2014</td>\n",
       "      <td>M</td>\n",
       "    </tr>\n",
       "    <tr>\n",
       "      <th>1363493</th>\n",
       "      <td>Zichen</td>\n",
       "      <td>5</td>\n",
       "      <td>2014</td>\n",
       "      <td>M</td>\n",
       "    </tr>\n",
       "    <tr>\n",
       "      <th>1363494</th>\n",
       "      <td>Ziden</td>\n",
       "      <td>5</td>\n",
       "      <td>2014</td>\n",
       "      <td>M</td>\n",
       "    </tr>\n",
       "    <tr>\n",
       "      <th>1363496</th>\n",
       "      <td>Ziion</td>\n",
       "      <td>5</td>\n",
       "      <td>2014</td>\n",
       "      <td>M</td>\n",
       "    </tr>\n",
       "    <tr>\n",
       "      <th>1363497</th>\n",
       "      <td>Zijun</td>\n",
       "      <td>5</td>\n",
       "      <td>2014</td>\n",
       "      <td>M</td>\n",
       "    </tr>\n",
       "    <tr>\n",
       "      <th>1363498</th>\n",
       "      <td>Zilas</td>\n",
       "      <td>5</td>\n",
       "      <td>2014</td>\n",
       "      <td>M</td>\n",
       "    </tr>\n",
       "    <tr>\n",
       "      <th>1363499</th>\n",
       "      <td>Zirui</td>\n",
       "      <td>5</td>\n",
       "      <td>2014</td>\n",
       "      <td>M</td>\n",
       "    </tr>\n",
       "    <tr>\n",
       "      <th>1363500</th>\n",
       "      <td>Zivon</td>\n",
       "      <td>5</td>\n",
       "      <td>2014</td>\n",
       "      <td>M</td>\n",
       "    </tr>\n",
       "    <tr>\n",
       "      <th>1363501</th>\n",
       "      <td>Ziyah</td>\n",
       "      <td>5</td>\n",
       "      <td>2014</td>\n",
       "      <td>M</td>\n",
       "    </tr>\n",
       "    <tr>\n",
       "      <th>1363502</th>\n",
       "      <td>Ziyang</td>\n",
       "      <td>5</td>\n",
       "      <td>2014</td>\n",
       "      <td>M</td>\n",
       "    </tr>\n",
       "    <tr>\n",
       "      <th>1363503</th>\n",
       "      <td>Zmarion</td>\n",
       "      <td>5</td>\n",
       "      <td>2014</td>\n",
       "      <td>M</td>\n",
       "    </tr>\n",
       "    <tr>\n",
       "      <th>1363504</th>\n",
       "      <td>Zo</td>\n",
       "      <td>5</td>\n",
       "      <td>2014</td>\n",
       "      <td>M</td>\n",
       "    </tr>\n",
       "    <tr>\n",
       "      <th>1363506</th>\n",
       "      <td>Zyel</td>\n",
       "      <td>5</td>\n",
       "      <td>2014</td>\n",
       "      <td>M</td>\n",
       "    </tr>\n",
       "    <tr>\n",
       "      <th>1363508</th>\n",
       "      <td>Zymeer</td>\n",
       "      <td>5</td>\n",
       "      <td>2014</td>\n",
       "      <td>M</td>\n",
       "    </tr>\n",
       "    <tr>\n",
       "      <th>1363510</th>\n",
       "      <td>Zyran</td>\n",
       "      <td>5</td>\n",
       "      <td>2014</td>\n",
       "      <td>M</td>\n",
       "    </tr>\n",
       "    <tr>\n",
       "      <th>1363511</th>\n",
       "      <td>Zyrin</td>\n",
       "      <td>5</td>\n",
       "      <td>2014</td>\n",
       "      <td>M</td>\n",
       "    </tr>\n",
       "  </tbody>\n",
       "</table>\n",
       "<p>352853 rows × 4 columns</p>\n",
       "</div>"
      ],
      "text/plain": [
       "              Name  Count  Year Gender\n",
       "0            Linda  80431  1950      F\n",
       "1             Mary  65460  1950      F\n",
       "2         Patricia  47945  1950      F\n",
       "3          Barbara  41558  1950      F\n",
       "4            Susan  38022  1950      F\n",
       "5            Nancy  29621  1950      F\n",
       "6          Deborah  29071  1950      F\n",
       "7           Sandra  28893  1950      F\n",
       "8            Carol  26159  1950      F\n",
       "9         Kathleen  25699  1950      F\n",
       "10          Sharon  24611  1950      F\n",
       "11           Karen  24139  1950      F\n",
       "12           Donna  21630  1950      F\n",
       "13          Brenda  20793  1950      F\n",
       "14        Margaret  18102  1950      F\n",
       "15           Diane  17632  1950      F\n",
       "16          Pamela  16200  1950      F\n",
       "17           Janet  16192  1950      F\n",
       "18         Shirley  15893  1950      F\n",
       "19         Carolyn  15597  1950      F\n",
       "20          Judith  15359  1950      F\n",
       "21          Janice  15018  1950      F\n",
       "22         Cynthia  14449  1950      F\n",
       "23       Elizabeth  14343  1950      F\n",
       "24            Judy  14206  1950      F\n",
       "25           Betty  13615  1950      F\n",
       "26           Joyce  13417  1950      F\n",
       "27       Christine  12676  1950      F\n",
       "28          Cheryl  11823  1950      F\n",
       "29          Gloria  11033  1950      F\n",
       "...            ...    ...   ...    ...\n",
       "1363470      Zarak      5  2014      M\n",
       "1363471      Zaryn      5  2014      M\n",
       "1363473    Zaydren      5  2014      M\n",
       "1363474      Zayid      5  2014      M\n",
       "1363476    Zaymere      5  2014      M\n",
       "1363478    Zaysean      5  2014      M\n",
       "1363480      Zedan      5  2014      M\n",
       "1363481      Zedek      5  2014      M\n",
       "1363484     Zeidan      5  2014      M\n",
       "1363485   Zekeriah      5  2014      M\n",
       "1363487     Zephen      5  2014      M\n",
       "1363489    Zhaiden      5  2014      M\n",
       "1363490     Zhalen      5  2014      M\n",
       "1363491    Zhayden      5  2014      M\n",
       "1363492       Ziar      5  2014      M\n",
       "1363493     Zichen      5  2014      M\n",
       "1363494      Ziden      5  2014      M\n",
       "1363496      Ziion      5  2014      M\n",
       "1363497      Zijun      5  2014      M\n",
       "1363498      Zilas      5  2014      M\n",
       "1363499      Zirui      5  2014      M\n",
       "1363500      Zivon      5  2014      M\n",
       "1363501      Ziyah      5  2014      M\n",
       "1363502     Ziyang      5  2014      M\n",
       "1363503    Zmarion      5  2014      M\n",
       "1363504         Zo      5  2014      M\n",
       "1363506       Zyel      5  2014      M\n",
       "1363508     Zymeer      5  2014      M\n",
       "1363510      Zyran      5  2014      M\n",
       "1363511      Zyrin      5  2014      M\n",
       "\n",
       "[352853 rows x 4 columns]"
      ]
     },
     "execution_count": 9,
     "metadata": {},
     "output_type": "execute_result"
    }
   ],
   "source": [
    "df = df[['Name','Count','Year','Gender']].groupby(['Name','Gender'])\n",
    "df.head(5)"
   ]
  },
  {
   "cell_type": "code",
   "execution_count": 10,
   "metadata": {
    "collapsed": false
   },
   "outputs": [],
   "source": [
    "# keep only rows with series length 65 years and with enough babies.\n",
    "df = df.filter(lambda x: len(x) == 65 and sum(x.Count) > 5000)"
   ]
  },
  {
   "cell_type": "code",
   "execution_count": 11,
   "metadata": {
    "collapsed": false
   },
   "outputs": [
    {
     "data": {
      "text/html": [
       "<div>\n",
       "<style scoped>\n",
       "    .dataframe tbody tr th:only-of-type {\n",
       "        vertical-align: middle;\n",
       "    }\n",
       "\n",
       "    .dataframe tbody tr th {\n",
       "        vertical-align: top;\n",
       "    }\n",
       "\n",
       "    .dataframe thead th {\n",
       "        text-align: right;\n",
       "    }\n",
       "</style>\n",
       "<table border=\"1\" class=\"dataframe\">\n",
       "  <thead>\n",
       "    <tr style=\"text-align: right;\">\n",
       "      <th></th>\n",
       "      <th>Name</th>\n",
       "      <th>Count</th>\n",
       "      <th>Year</th>\n",
       "      <th>Gender</th>\n",
       "    </tr>\n",
       "  </thead>\n",
       "  <tbody>\n",
       "    <tr>\n",
       "      <th>0</th>\n",
       "      <td>Linda</td>\n",
       "      <td>80431</td>\n",
       "      <td>1950</td>\n",
       "      <td>F</td>\n",
       "    </tr>\n",
       "    <tr>\n",
       "      <th>1</th>\n",
       "      <td>Mary</td>\n",
       "      <td>65460</td>\n",
       "      <td>1950</td>\n",
       "      <td>F</td>\n",
       "    </tr>\n",
       "    <tr>\n",
       "      <th>2</th>\n",
       "      <td>Patricia</td>\n",
       "      <td>47945</td>\n",
       "      <td>1950</td>\n",
       "      <td>F</td>\n",
       "    </tr>\n",
       "    <tr>\n",
       "      <th>3</th>\n",
       "      <td>Barbara</td>\n",
       "      <td>41558</td>\n",
       "      <td>1950</td>\n",
       "      <td>F</td>\n",
       "    </tr>\n",
       "    <tr>\n",
       "      <th>4</th>\n",
       "      <td>Susan</td>\n",
       "      <td>38022</td>\n",
       "      <td>1950</td>\n",
       "      <td>F</td>\n",
       "    </tr>\n",
       "    <tr>\n",
       "      <th>5</th>\n",
       "      <td>Nancy</td>\n",
       "      <td>29621</td>\n",
       "      <td>1950</td>\n",
       "      <td>F</td>\n",
       "    </tr>\n",
       "    <tr>\n",
       "      <th>6</th>\n",
       "      <td>Deborah</td>\n",
       "      <td>29071</td>\n",
       "      <td>1950</td>\n",
       "      <td>F</td>\n",
       "    </tr>\n",
       "    <tr>\n",
       "      <th>7</th>\n",
       "      <td>Sandra</td>\n",
       "      <td>28893</td>\n",
       "      <td>1950</td>\n",
       "      <td>F</td>\n",
       "    </tr>\n",
       "    <tr>\n",
       "      <th>8</th>\n",
       "      <td>Carol</td>\n",
       "      <td>26159</td>\n",
       "      <td>1950</td>\n",
       "      <td>F</td>\n",
       "    </tr>\n",
       "    <tr>\n",
       "      <th>9</th>\n",
       "      <td>Kathleen</td>\n",
       "      <td>25699</td>\n",
       "      <td>1950</td>\n",
       "      <td>F</td>\n",
       "    </tr>\n",
       "  </tbody>\n",
       "</table>\n",
       "</div>"
      ],
      "text/plain": [
       "       Name  Count  Year Gender\n",
       "0     Linda  80431  1950      F\n",
       "1      Mary  65460  1950      F\n",
       "2  Patricia  47945  1950      F\n",
       "3   Barbara  41558  1950      F\n",
       "4     Susan  38022  1950      F\n",
       "5     Nancy  29621  1950      F\n",
       "6   Deborah  29071  1950      F\n",
       "7    Sandra  28893  1950      F\n",
       "8     Carol  26159  1950      F\n",
       "9  Kathleen  25699  1950      F"
      ]
     },
     "execution_count": 11,
     "metadata": {},
     "output_type": "execute_result"
    }
   ],
   "source": [
    "df.head(10)"
   ]
  },
  {
   "cell_type": "code",
   "execution_count": 12,
   "metadata": {
    "collapsed": false
   },
   "outputs": [
    {
     "ename": "SyntaxError",
     "evalue": "invalid syntax (<ipython-input-12-1336746c71ed>, line 1)",
     "output_type": "error",
     "traceback": [
      "\u001b[0;36m  File \u001b[0;32m\"<ipython-input-12-1336746c71ed>\"\u001b[0;36m, line \u001b[0;32m1\u001b[0m\n\u001b[0;31m    print type(df)\u001b[0m\n\u001b[0m             ^\u001b[0m\n\u001b[0;31mSyntaxError\u001b[0m\u001b[0;31m:\u001b[0m invalid syntax\n"
     ]
    }
   ],
   "source": [
    "print type(df)\n",
    "df.describe()"
   ]
  },
  {
   "cell_type": "code",
   "execution_count": null,
   "metadata": {
    "collapsed": false
   },
   "outputs": [],
   "source": [
    "# https://github.com/JosPolfliet/pandas-profiling\n",
    "import pandas_profiling"
   ]
  },
  {
   "cell_type": "code",
   "execution_count": null,
   "metadata": {
    "collapsed": false
   },
   "outputs": [],
   "source": [
    "pandas_profiling.ProfileReport(df)\n",
    "profile = pandas_profiling.ProfileReport(df)\n",
    "profile.to_file(outputfile=\"babynames-profile.html\")"
   ]
  },
  {
   "cell_type": "code",
   "execution_count": null,
   "metadata": {
    "collapsed": false
   },
   "outputs": [],
   "source": [
    "%ls -alt baby*"
   ]
  },
  {
   "cell_type": "code",
   "execution_count": null,
   "metadata": {
    "collapsed": false
   },
   "outputs": [],
   "source": [
    "# top ten names across full history\n",
    "glob_freq = (df.groupby('Name')\n",
    "             .agg({'Count': 'sum'})\n",
    "             .sort_values('Count', ascending=False))\n"
   ]
  },
  {
   "cell_type": "code",
   "execution_count": null,
   "metadata": {
    "collapsed": false
   },
   "outputs": [],
   "source": [
    "# bar chart\n",
    "glob_freq[['Count']].head(10).plot(kind='bar')"
   ]
  },
  {
   "cell_type": "code",
   "execution_count": null,
   "metadata": {
    "collapsed": false
   },
   "outputs": [],
   "source": [
    "# plot timeseries for Danielle\n",
    "y1 = df.query('Name==\"Danielle\"')[['Year', 'Name', 'Count']].groupby('Year').sum()\n",
    "y1.plot()"
   ]
  },
  {
   "cell_type": "code",
   "execution_count": null,
   "metadata": {
    "collapsed": false,
    "scrolled": true
   },
   "outputs": [],
   "source": [
    "y2 = df.query('Name==\"Daniel\"')[['Year', 'Name', 'Count']].groupby('Year').sum()\n",
    "y2.plot()"
   ]
  },
  {
   "cell_type": "code",
   "execution_count": null,
   "metadata": {
    "collapsed": true
   },
   "outputs": [],
   "source": [
    "# start cross correlation analysis"
   ]
  },
  {
   "cell_type": "code",
   "execution_count": null,
   "metadata": {
    "collapsed": false
   },
   "outputs": [],
   "source": [
    "table = df.pivot_table(index='Year', columns=['Name','Gender'], values='Count').fillna(0)"
   ]
  },
  {
   "cell_type": "code",
   "execution_count": null,
   "metadata": {
    "collapsed": false
   },
   "outputs": [],
   "source": [
    "table.head(10)"
   ]
  },
  {
   "cell_type": "code",
   "execution_count": null,
   "metadata": {
    "collapsed": false
   },
   "outputs": [],
   "source": [
    "# run cross correlation of one name series against every other. This is memory intensive.\n",
    "# this will produce a symetric matrix\n",
    "xc = table.corr()"
   ]
  },
  {
   "cell_type": "code",
   "execution_count": null,
   "metadata": {
    "collapsed": false
   },
   "outputs": [],
   "source": [
    "xc.head(10)"
   ]
  },
  {
   "cell_type": "code",
   "execution_count": null,
   "metadata": {
    "collapsed": false
   },
   "outputs": [],
   "source": [
    "# Profile the data set\n",
    "xc.describe()"
   ]
  },
  {
   "cell_type": "code",
   "execution_count": null,
   "metadata": {
    "collapsed": false
   },
   "outputs": [],
   "source": [
    "# filter out bad matches, with correlation <= 0.8\n",
    "xc1 = xc.applymap(lambda x: x if x > 0.8 else np.nan)"
   ]
  },
  {
   "cell_type": "code",
   "execution_count": null,
   "metadata": {
    "collapsed": false
   },
   "outputs": [],
   "source": [
    "xc1.head(10)"
   ]
  },
  {
   "cell_type": "code",
   "execution_count": null,
   "metadata": {
    "collapsed": false
   },
   "outputs": [],
   "source": [
    "# filter out lower triangle (correlation matrix is symetric)\n",
    "xc2 = xc1.mask(np.tril(np.ones(xc.shape)).astype(np.bool))"
   ]
  },
  {
   "cell_type": "code",
   "execution_count": null,
   "metadata": {
    "collapsed": false
   },
   "outputs": [],
   "source": [
    "xc2.head(20)"
   ]
  },
  {
   "cell_type": "code",
   "execution_count": null,
   "metadata": {
    "collapsed": false
   },
   "outputs": [],
   "source": [
    "# turn correlation matrix into a lengthy table with (from name, from gender, to name, to gender), drop the NaN rows\n",
    "s = xc2.unstack(level=0).unstack().dropna()"
   ]
  },
  {
   "cell_type": "code",
   "execution_count": null,
   "metadata": {
    "collapsed": false
   },
   "outputs": [],
   "source": [
    "# create sorted series in descending order of correlation\n",
    "so = s.sort_values(ascending=False)"
   ]
  },
  {
   "cell_type": "code",
   "execution_count": null,
   "metadata": {
    "collapsed": false
   },
   "outputs": [],
   "source": [
    "# display to 10 items\n",
    "so.head(10)"
   ]
  },
  {
   "cell_type": "markdown",
   "metadata": {},
   "source": [
    "### Get the top two most similar timeseries"
   ]
  },
  {
   "cell_type": "code",
   "execution_count": null,
   "metadata": {
    "collapsed": false
   },
   "outputs": [],
   "source": [
    "# get the top two most similar timeseries\n",
    "index=0 # top name pair\n",
    "names = (so.index[index][0], so.index[index][2])\n",
    "f1 = 'Name==\"' + names[0] + '\"'\n",
    "f2 = 'Name==\"' + names[1] + '\"'\n",
    "print names, f1, f2\n",
    "y1 = df.query(f1)[['Year', 'Count']].groupby('Year').sum()\n",
    "y2 = df.query(f2)[['Year', 'Count']].groupby('Year').sum()"
   ]
  },
  {
   "cell_type": "markdown",
   "metadata": {},
   "source": [
    "### Plot the name plots side by side for comparison's sake"
   ]
  },
  {
   "cell_type": "code",
   "execution_count": null,
   "metadata": {
    "collapsed": false
   },
   "outputs": [],
   "source": [
    "#Plot the two time series\n",
    "size=15\n",
    "fig, ax = plt.subplots(2, 1, sharex='col', figsize=(size, size*.7))\n",
    "\n",
    "plt.subplot(2,1,1)\n",
    "plt.plot(y1.unstack())\n",
    "plt.title(so.index[index][0])\n",
    "plt.subplot(2,1,2)\n",
    "plt.plot(y2.unstack())\n",
    "plt.title(so.index[index][2])\n",
    "plt.show()"
   ]
  },
  {
   "cell_type": "markdown",
   "metadata": {},
   "source": [
    "### Cross correlation between name1 and name2"
   ]
  },
  {
   "cell_type": "code",
   "execution_count": null,
   "metadata": {
    "collapsed": false
   },
   "outputs": [],
   "source": [
    "plt.plot(y1.unstack(),y2.unstack())\n",
    "plt.title('Name 1 vs. Name 2')"
   ]
  },
  {
   "cell_type": "code",
   "execution_count": null,
   "metadata": {
    "collapsed": true
   },
   "outputs": [],
   "source": []
  }
 ],
 "metadata": {
  "kernelspec": {
   "display_name": "Python 3",
   "language": "python",
   "name": "python3"
  },
  "language_info": {
   "codemirror_mode": {
    "name": "ipython",
    "version": 3
   },
   "file_extension": ".py",
   "mimetype": "text/x-python",
   "name": "python",
   "nbconvert_exporter": "python",
   "pygments_lexer": "ipython3",
   "version": "3.7.1"
  }
 },
 "nbformat": 4,
 "nbformat_minor": 2
}
